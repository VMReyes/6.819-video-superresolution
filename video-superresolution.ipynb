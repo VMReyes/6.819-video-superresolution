{
 "cells": [
  {
   "cell_type": "markdown",
   "id": "b9f8943e",
   "metadata": {},
   "source": [
    "# Video Super Resolution\n",
    "\n",
    "## By Daniel Shkreli and Victor Reyes"
   ]
  },
  {
   "cell_type": "markdown",
   "id": "20dd443c",
   "metadata": {},
   "source": [
    "### Import what we need"
   ]
  },
  {
   "cell_type": "code",
   "execution_count": 2,
   "id": "5a277c04",
   "metadata": {},
   "outputs": [
    {
     "name": "stdout",
     "output_type": "stream",
     "text": [
      "Requirement already satisfied: tqdm in /home/ubuntu/anaconda3/envs/pytorch_p36/lib/python3.6/site-packages (4.57.0)\n",
      "Using the GPU!\n"
     ]
    }
   ],
   "source": [
    "import torch\n",
    "import torch.nn as nn\n",
    "import numpy as np\n",
    "import time\n",
    "import lpips\n",
    "import torchvision\n",
    "from torchvision.datasets.video_utils import VideoClips\n",
    "from torchvision import datasets, models, transforms\n",
    "!pip install tqdm\n",
    "from tqdm.notebook import tqdm\n",
    "import os\n",
    "import copy\n",
    "\n",
    "device = torch.device(\"cuda:0\" if torch.cuda.is_available() else \"cpu\")\n",
    "if torch.cuda.is_available():\n",
    "    print(\"Using the GPU!\")\n",
    "else:\n",
    "    print(\"WARNING: Could not find GPU! Using CPU only\")"
   ]
  },
  {
   "cell_type": "markdown",
   "id": "3b884ed7",
   "metadata": {},
   "source": [
    "### Import the dataset\n",
    "To do this, we will be downloading the videos of the National Geographic channel."
   ]
  },
  {
   "cell_type": "code",
   "execution_count": 5,
   "id": "57fffb47",
   "metadata": {},
   "outputs": [
    {
     "data": {
      "application/vnd.jupyter.widget-view+json": {
       "model_id": "31d72fc9020d46a79271c433ca27488c",
       "version_major": 2,
       "version_minor": 0
      },
      "text/plain": [
       "  0%|          | 0/1 [00:00<?, ?it/s]"
      ]
     },
     "metadata": {},
     "output_type": "display_data"
    },
    {
     "name": "stderr",
     "output_type": "stream",
     "text": [
      "/home/ubuntu/anaconda3/envs/pytorch_p36/lib/python3.6/site-packages/torchvision/io/video.py:107: UserWarning: The pts_unit 'pts' gives wrong results and will be removed in a follow-up version. Please use pts_unit 'sec'.\n",
      "  \"follow-up version. Please use pts_unit 'sec'.\")\n"
     ]
    }
   ],
   "source": [
    "sample_video_filename = \"yt-dls/train/0/Secrets of the Whales _ Official Trailer _ Disney+.mp4\"\n",
    "sample_video = VideoClips([sample_video_filename], clip_length_in_frames=10, frames_between_clips=10, frame_rate=10)"
   ]
  },
  {
   "cell_type": "code",
   "execution_count": 95,
   "id": "f19ca1fb",
   "metadata": {},
   "outputs": [
    {
     "name": "stderr",
     "output_type": "stream",
     "text": [
      "/home/ubuntu/anaconda3/envs/pytorch_p36/lib/python3.6/site-packages/torchvision/io/video.py:107: UserWarning: The pts_unit 'pts' gives wrong results and will be removed in a follow-up version. Please use pts_unit 'sec'.\n",
      "  \"follow-up version. Please use pts_unit 'sec'.\")\n"
     ]
    },
    {
     "name": "stdout",
     "output_type": "stream",
     "text": [
      "torch.Size([720, 1280, 3])\n",
      "torch.Size([1, 3, 256, 256])\n",
      "torch.Size([1, 1024, 1, 1])\n",
      "torch.Size([1, 3, 511, 511])\n"
     ]
    }
   ],
   "source": [
    "clip = sample_video.get_clip(0)[0]\n",
    "frame_0 = clip[0]\n",
    "print(frame_0.shape)\n",
    "transformed_frame = torch.unsqueeze(data_transforms['train'](frame_0), 0)\n",
    "print(transformed_frame.shape)\n",
    "latent = torch.unsqueeze(torch.unsqueeze(resnet(transformed_frame),-1),-1)\n",
    "print(latent.shape)\n",
    "print(decoder(latent).shape)"
   ]
  },
  {
   "cell_type": "code",
   "execution_count": null,
   "id": "c2ca3b21",
   "metadata": {},
   "outputs": [],
   "source": [
    "clips.shape\n",
    "print(torch.__version__)"
   ]
  },
  {
   "cell_type": "markdown",
   "id": "92c00196",
   "metadata": {},
   "source": [
    "### Create the model\n",
    "We will use resnet 18, pretrained at first.\n",
    "from https://github.com/hsinyilin19/ResNetVAE\n"
   ]
  },
  {
   "cell_type": "code",
   "execution_count": 1,
   "id": "a0ee5278",
   "metadata": {},
   "outputs": [
    {
     "ename": "NameError",
     "evalue": "name 'transforms' is not defined",
     "output_type": "error",
     "traceback": [
      "\u001b[0;31m---------------------------------------------------------------------------\u001b[0m",
      "\u001b[0;31mNameError\u001b[0m                                 Traceback (most recent call last)",
      "\u001b[0;32m<ipython-input-1-28457a965fe4>\u001b[0m in \u001b[0;36m<module>\u001b[0;34m()\u001b[0m\n\u001b[1;32m     78\u001b[0m \u001b[0minput_size\u001b[0m \u001b[0;34m=\u001b[0m \u001b[0;36m256\u001b[0m\u001b[0;34m\u001b[0m\u001b[0;34m\u001b[0m\u001b[0m\n\u001b[1;32m     79\u001b[0m data_transforms = {\n\u001b[0;32m---> 80\u001b[0;31m     'train': transforms.Compose([\n\u001b[0m\u001b[1;32m     81\u001b[0m         \u001b[0mtransforms\u001b[0m\u001b[0;34m.\u001b[0m\u001b[0mToPILImage\u001b[0m\u001b[0;34m(\u001b[0m\u001b[0;34m)\u001b[0m\u001b[0;34m,\u001b[0m\u001b[0;34m\u001b[0m\u001b[0;34m\u001b[0m\u001b[0m\n\u001b[1;32m     82\u001b[0m         \u001b[0mtransforms\u001b[0m\u001b[0;34m.\u001b[0m\u001b[0mResize\u001b[0m\u001b[0;34m(\u001b[0m\u001b[0minput_size\u001b[0m\u001b[0;34m)\u001b[0m\u001b[0;34m,\u001b[0m\u001b[0;34m\u001b[0m\u001b[0;34m\u001b[0m\u001b[0m\n",
      "\u001b[0;31mNameError\u001b[0m: name 'transforms' is not defined"
     ]
    }
   ],
   "source": [
    "def initialize_resnet_model(resume_from = None):\n",
    "    resnet = models.resnet18(pretrained=True)\n",
    "    num_ftrs = resnet.fc.in_features\n",
    "    print(\"num_ftrs:\", num_ftrs)\n",
    "    layers = list(resnet.children())\n",
    "    #resnet = nn.Sequential(*layers[:-1])\n",
    "    # TODO Freeze weights \n",
    "    resnet.fc = nn.Sequential(nn.Linear(num_ftrs, 1024), nn.BatchNorm1d(1024, momentum=0.01), nn.Linear(1024, 1024)) # create latent\n",
    "    \n",
    "    #resnet.add_module(\"bottleneck\", nn.Sequential()\n",
    "    if resume_from is not None:\n",
    "        print(f\"Loading weights from {resume_from}\")\n",
    "        model.load_state_dict(torch.load(resume_from))\n",
    "    return resnet\n",
    "\n",
    "def initialize_decoder():\n",
    "    convTrans6 = nn.Sequential(\n",
    "        nn.ConvTranspose2d(in_channels=1024, out_channels=512, kernel_size=(7,7), stride=stride,\n",
    "                           padding=(0,0)),\n",
    "        nn.BatchNorm2d(512, momentum=0.01),\n",
    "        nn.ReLU(inplace=True),\n",
    "    )\n",
    "    \n",
    "    convTrans7 = nn.Sequential(\n",
    "        nn.ConvTranspose2d(in_channels=512, out_channels=256, kernel_size=(3,3), stride=stride,\n",
    "                           padding=(0,0)),\n",
    "        nn.BatchNorm2d(256, momentum=0.01),\n",
    "        nn.ReLU(inplace=True),\n",
    "    )\n",
    "    \n",
    "    convTrans8 = nn.Sequential(\n",
    "        nn.ConvTranspose2d(in_channels=256, out_channels=128, kernel_size=(3,3), stride=stride,\n",
    "                           padding=(0,0)),\n",
    "        nn.BatchNorm2d(128, momentum=0.01),\n",
    "        nn.ReLU(inplace=True),\n",
    "    )\n",
    "    \n",
    "    convTrans9 = nn.Sequential(\n",
    "        nn.ConvTranspose2d(in_channels=128, out_channels=64, kernel_size=(3,3), stride=stride,\n",
    "                           padding=(0,0)),\n",
    "        nn.BatchNorm2d(64, momentum=0.01),\n",
    "        nn.ReLU(inplace=True),\n",
    "    )\n",
    "   \n",
    "    convTrans10 = nn.Sequential(\n",
    "        nn.ConvTranspose2d(in_channels=64, out_channels=64, kernel_size=(3,3), stride=stride,\n",
    "                           padding=(0,0)),\n",
    "        nn.BatchNorm2d(64, momentum=0.01),\n",
    "        nn.ReLU(inplace=True),\n",
    "    )\n",
    "    \n",
    "    convTrans11 = nn.Sequential(\n",
    "        nn.ConvTranspose2d(in_channels=64, out_channels=32, kernel_size=(3,3), stride=stride,\n",
    "                           padding=(0,0)),\n",
    "        nn.BatchNorm2d(32, momentum=0.01),\n",
    "        nn.ReLU(inplace=True),\n",
    "    )\n",
    "    \n",
    "    convTrans12 = nn.Sequential(\n",
    "        nn.ConvTranspose2d(in_channels=32, out_channels=3, kernel_size=(3,3), stride=stride,\n",
    "                           padding=(0,0)),\n",
    "        nn.BatchNorm2d(3, momentum=0.01),\n",
    "        nn.Sigmoid(),\n",
    "    )\n",
    "    return nn.Sequential(convTrans6,\n",
    "                         convTrans7,\n",
    "                         convTrans8,\n",
    "                         convTrans9,\n",
    "                         convTrans10,\n",
    "                         convTrans11,\n",
    "                         convTrans12) \n",
    "\n",
    "    \n",
    "def video_loader(filename):\n",
    "    clips = VideoClips([filename], clip_length_in_frames=10, frames_between_clips = 10, frame_rate=10)\n",
    "    \n",
    "    return clips.get_clip(clips.num_clips()//2)[0]# currently just return a clip \n",
    "input_size = 256\n",
    "data_transforms = {\n",
    "    'train': transforms.Compose([\n",
    "        transforms.ToPILImage(),\n",
    "        transforms.Resize(input_size),\n",
    "        transforms.CenterCrop(input_size),\n",
    "        #transforms.RandomHorizontalFlip(),\n",
    "        #transforms.RandomRotation([-30,30]),\n",
    "        transforms.ToTensor(),\n",
    "        transforms.Normalize([0.485, 0.456, 0.406], [0.229, 0.224, 0.225])\n",
    "    ]),\n",
    "    'val': transforms.Compose([\n",
    "        transforms.Resize(input_size),\n",
    "        transforms.CenterCrop(input_size),\n",
    "        transforms.ToTensor(),\n",
    "        transforms.Normalize([0.485, 0.456, 0.406], [0.229, 0.224, 0.225])\n",
    "    ]),\n",
    "    'test': transforms.Compose([\n",
    "        transforms.Resize(input_size),\n",
    "        transforms.CenterCrop(input_size),\n",
    "        transforms.ToTensor(),\n",
    "        transforms.Normalize([0.485, 0.456, 0.406], [0.229, 0.224, 0.225])\n",
    "    ])\n",
    "}\n",
    "\n",
    "def get_dataloaders(batch_size, input_size = 256, shuffle = True):\n",
    "    train_dataset = datasets.DatasetFolder(root=\"yt-dls/train/\", loader=video_loader, extensions=(\"mp4\"))\n",
    "    val_dataset = datasets.DatasetFolder(root=\"yt-dls/val/\", loader=video_loader, extensions=(\"mp4\"))\n",
    "    test_dataset = datasets.DatasetFolder(root=\"yt-dls/test/\", loader=video_loader, extensions=(\"mp4\"))\n",
    "\n",
    "    dataloaders_dict = {'train': torch.utils.data.DataLoader(train_dataset, batch_size = batch_size, shuffle = True),\n",
    "                       'val': torch.utils.data.DataLoader(val_dataset, batch_size = batch_size, shuffle = True),\n",
    "                       'test': torch.utils.data.DataLoader(test_dataset, batch_size = batch_size, shuffle = True)}\n",
    "    return dataloaders_dict"
   ]
  },
  {
   "cell_type": "code",
   "execution_count": null,
   "id": "8e528110",
   "metadata": {},
   "outputs": [],
   "source": [
    "def train(model, dataloaders, num_epochs=25):\n",
    "    since = time.time()\n",
    "\n",
    "    val_acc_history = []\n",
    "    \n",
    "    best_model_wts = copy.deepcopy(model.state_dict())\n",
    "    best_loss = 0.0\n",
    "\n",
    "    for epoch in range(num_epochs):\n",
    "        print('Epoch {}/{}'.format(epoch, num_epochs - 1))\n",
    "        print('-' * 10)\n",
    "\n",
    "        # Each epoch has a training and validation phase\n",
    "        for phase in ['train', 'val']:\n",
    "            if phase == 'train':\n",
    "                model.train()  # Set model to training mode\n",
    "            else:\n",
    "                model.eval()   # Set model to evaluate mode\n",
    "\n",
    "            running_loss = 0.0\n",
    "\n",
    "            # Iterate over data.\n",
    "            # TQDM has nice progress bars\n",
    "            for inputs, _ in tqdm(dataloaders[phase]):\n",
    "                #inputs2 = data_transforms['train'](inputs)\n",
    "                # we get 10, 720, 1280, 3\n",
    "                # for now, lets just get a single frame\n",
    "                # perform transform on input\n",
    "                transformed_input = data_transforms[phase](inputs)\n",
    "                label = inputs # this makes sense, should we perform any transforms?\n",
    "                optimizer.zero_grad()\n",
    "                with torch.set_grad_enabled(phase == 'train'):\n",
    "                    prediction = model(inputs)\n",
    "                    preceptual_loss = percept(prediction, label)\n",
    "                    mse_loss = nn.mse(prediction, label)\n",
    "                    loss = alpha * perceptual_loss + beta * mse_loss\n",
    "                    if phase == 'train':\n",
    "                        loss.backward()\n",
    "                        optimizer.step()\n",
    "                print(inputs2.shape)\n",
    "                "
   ]
  },
  {
   "cell_type": "code",
   "execution_count": 93,
   "id": "07555ad9",
   "metadata": {
    "scrolled": true
   },
   "outputs": [
    {
     "name": "stdout",
     "output_type": "stream",
     "text": [
      "num_ftrs: 512\n",
      "ResNet(\n",
      "  (conv1): Conv2d(3, 64, kernel_size=(7, 7), stride=(2, 2), padding=(3, 3), bias=False)\n",
      "  (bn1): BatchNorm2d(64, eps=1e-05, momentum=0.1, affine=True, track_running_stats=True)\n",
      "  (relu): ReLU(inplace=True)\n",
      "  (maxpool): MaxPool2d(kernel_size=3, stride=2, padding=1, dilation=1, ceil_mode=False)\n",
      "  (layer1): Sequential(\n",
      "    (0): BasicBlock(\n",
      "      (conv1): Conv2d(64, 64, kernel_size=(3, 3), stride=(1, 1), padding=(1, 1), bias=False)\n",
      "      (bn1): BatchNorm2d(64, eps=1e-05, momentum=0.1, affine=True, track_running_stats=True)\n",
      "      (relu): ReLU(inplace=True)\n",
      "      (conv2): Conv2d(64, 64, kernel_size=(3, 3), stride=(1, 1), padding=(1, 1), bias=False)\n",
      "      (bn2): BatchNorm2d(64, eps=1e-05, momentum=0.1, affine=True, track_running_stats=True)\n",
      "    )\n",
      "    (1): BasicBlock(\n",
      "      (conv1): Conv2d(64, 64, kernel_size=(3, 3), stride=(1, 1), padding=(1, 1), bias=False)\n",
      "      (bn1): BatchNorm2d(64, eps=1e-05, momentum=0.1, affine=True, track_running_stats=True)\n",
      "      (relu): ReLU(inplace=True)\n",
      "      (conv2): Conv2d(64, 64, kernel_size=(3, 3), stride=(1, 1), padding=(1, 1), bias=False)\n",
      "      (bn2): BatchNorm2d(64, eps=1e-05, momentum=0.1, affine=True, track_running_stats=True)\n",
      "    )\n",
      "  )\n",
      "  (layer2): Sequential(\n",
      "    (0): BasicBlock(\n",
      "      (conv1): Conv2d(64, 128, kernel_size=(3, 3), stride=(2, 2), padding=(1, 1), bias=False)\n",
      "      (bn1): BatchNorm2d(128, eps=1e-05, momentum=0.1, affine=True, track_running_stats=True)\n",
      "      (relu): ReLU(inplace=True)\n",
      "      (conv2): Conv2d(128, 128, kernel_size=(3, 3), stride=(1, 1), padding=(1, 1), bias=False)\n",
      "      (bn2): BatchNorm2d(128, eps=1e-05, momentum=0.1, affine=True, track_running_stats=True)\n",
      "      (downsample): Sequential(\n",
      "        (0): Conv2d(64, 128, kernel_size=(1, 1), stride=(2, 2), bias=False)\n",
      "        (1): BatchNorm2d(128, eps=1e-05, momentum=0.1, affine=True, track_running_stats=True)\n",
      "      )\n",
      "    )\n",
      "    (1): BasicBlock(\n",
      "      (conv1): Conv2d(128, 128, kernel_size=(3, 3), stride=(1, 1), padding=(1, 1), bias=False)\n",
      "      (bn1): BatchNorm2d(128, eps=1e-05, momentum=0.1, affine=True, track_running_stats=True)\n",
      "      (relu): ReLU(inplace=True)\n",
      "      (conv2): Conv2d(128, 128, kernel_size=(3, 3), stride=(1, 1), padding=(1, 1), bias=False)\n",
      "      (bn2): BatchNorm2d(128, eps=1e-05, momentum=0.1, affine=True, track_running_stats=True)\n",
      "    )\n",
      "  )\n",
      "  (layer3): Sequential(\n",
      "    (0): BasicBlock(\n",
      "      (conv1): Conv2d(128, 256, kernel_size=(3, 3), stride=(2, 2), padding=(1, 1), bias=False)\n",
      "      (bn1): BatchNorm2d(256, eps=1e-05, momentum=0.1, affine=True, track_running_stats=True)\n",
      "      (relu): ReLU(inplace=True)\n",
      "      (conv2): Conv2d(256, 256, kernel_size=(3, 3), stride=(1, 1), padding=(1, 1), bias=False)\n",
      "      (bn2): BatchNorm2d(256, eps=1e-05, momentum=0.1, affine=True, track_running_stats=True)\n",
      "      (downsample): Sequential(\n",
      "        (0): Conv2d(128, 256, kernel_size=(1, 1), stride=(2, 2), bias=False)\n",
      "        (1): BatchNorm2d(256, eps=1e-05, momentum=0.1, affine=True, track_running_stats=True)\n",
      "      )\n",
      "    )\n",
      "    (1): BasicBlock(\n",
      "      (conv1): Conv2d(256, 256, kernel_size=(3, 3), stride=(1, 1), padding=(1, 1), bias=False)\n",
      "      (bn1): BatchNorm2d(256, eps=1e-05, momentum=0.1, affine=True, track_running_stats=True)\n",
      "      (relu): ReLU(inplace=True)\n",
      "      (conv2): Conv2d(256, 256, kernel_size=(3, 3), stride=(1, 1), padding=(1, 1), bias=False)\n",
      "      (bn2): BatchNorm2d(256, eps=1e-05, momentum=0.1, affine=True, track_running_stats=True)\n",
      "    )\n",
      "  )\n",
      "  (layer4): Sequential(\n",
      "    (0): BasicBlock(\n",
      "      (conv1): Conv2d(256, 512, kernel_size=(3, 3), stride=(2, 2), padding=(1, 1), bias=False)\n",
      "      (bn1): BatchNorm2d(512, eps=1e-05, momentum=0.1, affine=True, track_running_stats=True)\n",
      "      (relu): ReLU(inplace=True)\n",
      "      (conv2): Conv2d(512, 512, kernel_size=(3, 3), stride=(1, 1), padding=(1, 1), bias=False)\n",
      "      (bn2): BatchNorm2d(512, eps=1e-05, momentum=0.1, affine=True, track_running_stats=True)\n",
      "      (downsample): Sequential(\n",
      "        (0): Conv2d(256, 512, kernel_size=(1, 1), stride=(2, 2), bias=False)\n",
      "        (1): BatchNorm2d(512, eps=1e-05, momentum=0.1, affine=True, track_running_stats=True)\n",
      "      )\n",
      "    )\n",
      "    (1): BasicBlock(\n",
      "      (conv1): Conv2d(512, 512, kernel_size=(3, 3), stride=(1, 1), padding=(1, 1), bias=False)\n",
      "      (bn1): BatchNorm2d(512, eps=1e-05, momentum=0.1, affine=True, track_running_stats=True)\n",
      "      (relu): ReLU(inplace=True)\n",
      "      (conv2): Conv2d(512, 512, kernel_size=(3, 3), stride=(1, 1), padding=(1, 1), bias=False)\n",
      "      (bn2): BatchNorm2d(512, eps=1e-05, momentum=0.1, affine=True, track_running_stats=True)\n",
      "    )\n",
      "  )\n",
      "  (avgpool): AdaptiveAvgPool2d(output_size=(1, 1))\n",
      "  (fc): Sequential(\n",
      "    (0): Linear(in_features=512, out_features=1024, bias=True)\n",
      "    (1): BatchNorm1d(1024, eps=1e-05, momentum=0.01, affine=True, track_running_stats=True)\n",
      "    (2): Linear(in_features=1024, out_features=1024, bias=True)\n",
      "  )\n",
      ")\n",
      "Sequential(\n",
      "  (0): Sequential(\n",
      "    (0): ConvTranspose2d(1024, 512, kernel_size=(7, 7), stride=(2, 2))\n",
      "    (1): BatchNorm2d(512, eps=1e-05, momentum=0.01, affine=True, track_running_stats=True)\n",
      "    (2): ReLU(inplace=True)\n",
      "  )\n",
      "  (1): Sequential(\n",
      "    (0): ConvTranspose2d(512, 256, kernel_size=(3, 3), stride=(2, 2))\n",
      "    (1): BatchNorm2d(256, eps=1e-05, momentum=0.01, affine=True, track_running_stats=True)\n",
      "    (2): ReLU(inplace=True)\n",
      "  )\n",
      "  (2): Sequential(\n",
      "    (0): ConvTranspose2d(256, 128, kernel_size=(3, 3), stride=(2, 2))\n",
      "    (1): BatchNorm2d(128, eps=1e-05, momentum=0.01, affine=True, track_running_stats=True)\n",
      "    (2): ReLU(inplace=True)\n",
      "  )\n",
      "  (3): Sequential(\n",
      "    (0): ConvTranspose2d(128, 64, kernel_size=(3, 3), stride=(2, 2))\n",
      "    (1): BatchNorm2d(64, eps=1e-05, momentum=0.01, affine=True, track_running_stats=True)\n",
      "    (2): ReLU(inplace=True)\n",
      "  )\n",
      "  (4): Sequential(\n",
      "    (0): ConvTranspose2d(64, 64, kernel_size=(3, 3), stride=(2, 2))\n",
      "    (1): BatchNorm2d(64, eps=1e-05, momentum=0.01, affine=True, track_running_stats=True)\n",
      "    (2): ReLU(inplace=True)\n",
      "  )\n",
      "  (5): Sequential(\n",
      "    (0): ConvTranspose2d(64, 32, kernel_size=(3, 3), stride=(2, 2))\n",
      "    (1): BatchNorm2d(32, eps=1e-05, momentum=0.01, affine=True, track_running_stats=True)\n",
      "    (2): ReLU(inplace=True)\n",
      "  )\n",
      "  (6): Sequential(\n",
      "    (0): ConvTranspose2d(32, 3, kernel_size=(3, 3), stride=(2, 2))\n",
      "    (1): BatchNorm2d(3, eps=1e-05, momentum=0.01, affine=True, track_running_stats=True)\n",
      "    (2): Sigmoid()\n",
      "  )\n",
      ")\n"
     ]
    }
   ],
   "source": [
    "resnet = initialize_resnet_model().eval()\n",
    "decoder = initialize_decoder().eval()\n",
    "print(resnet)\n",
    "print(decoder)"
   ]
  },
  {
   "cell_type": "code",
   "execution_count": null,
   "id": "ceb29fc7",
   "metadata": {},
   "outputs": [],
   "source": [
    "dataloaders_dict = get_dataloaders(1)\n",
    "print(dataloaders_dict)\n",
    "\n",
    "for inputs, _ in tqdm(dataloaders_dict['val']):\n",
    "    print(inputs.shape)\n",
    "    inputs2 = data_transforms['train'](inputs)\n",
    "\n",
    "    print(inputs2.shape)"
   ]
  },
  {
   "cell_type": "code",
   "execution_count": null,
   "id": "e2fd956d",
   "metadata": {},
   "outputs": [],
   "source": [
    "train(resnet, dataloaders_dict)"
   ]
  }
 ],
 "metadata": {
  "kernelspec": {
   "display_name": "Environment (conda_pytorch_p36)",
   "language": "python",
   "name": "conda_pytorch_p36"
  },
  "language_info": {
   "codemirror_mode": {
    "name": "ipython",
    "version": 3
   },
   "file_extension": ".py",
   "mimetype": "text/x-python",
   "name": "python",
   "nbconvert_exporter": "python",
   "pygments_lexer": "ipython3",
   "version": "3.6.13"
  }
 },
 "nbformat": 4,
 "nbformat_minor": 5
}
